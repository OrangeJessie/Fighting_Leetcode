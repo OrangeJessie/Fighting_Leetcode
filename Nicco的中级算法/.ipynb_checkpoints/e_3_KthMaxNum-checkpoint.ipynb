{
 "cells": [
  {
   "cell_type": "markdown",
   "metadata": {},
   "source": [
    "# 数组中的第K个最大元素\n",
    "在未排序的数组中找到第 k 个最大的元素。请注意，你需要找的是数组排序后的第 k 个最大的元素，而不是第 k 个不同的元素。\n",
    "\n",
    "示例 1:\n",
    "\n",
    "    输入: [3,2,1,5,6,4] 和 k = 2\n",
    "    输出: 5\n",
    "示例 2:\n",
    "\n",
    "    输入: [3,2,3,1,2,4,5,5,6] 和 k = 4\n",
    "    输出: 4\n",
    "说明:\n",
    "\n",
    "你可以假设 k 总是有效的，且 1 ≤ k ≤ 数组的长度。"
   ]
  },
  {
   "cell_type": "markdown",
   "metadata": {},
   "source": [
    "## 方法一：冒泡排序\n",
    "速度较慢；"
   ]
  },
  {
   "cell_type": "code",
   "execution_count": null,
   "metadata": {},
   "outputs": [],
   "source": [
    "public int findKthLargest(int[] nums, int k) {\n",
    "    for (int i = 0; i < k; i++) {\n",
    "        for (int j = i+1; j < nums.length; j++) {\n",
    "            if (nums[i]<nums[j]){\n",
    "                int t = nums[i];\n",
    "                nums[i]=nums[j];\n",
    "                nums[j]=t;\n",
    "            }\n",
    "        }\n",
    "    }\n",
    "    return nums[k-1];\n",
    "}"
   ]
  },
  {
   "cell_type": "markdown",
   "metadata": {},
   "source": [
    "## 方法二：快排"
   ]
  },
  {
   "cell_type": "code",
   "execution_count": null,
   "metadata": {},
   "outputs": [],
   "source": []
  }
 ],
 "metadata": {
  "kernelspec": {
   "display_name": "Java",
   "language": "java",
   "name": "java"
  },
  "language_info": {
   "codemirror_mode": "java",
   "file_extension": ".java",
   "mimetype": "text/x-java-source",
   "name": "Java",
   "pygments_lexer": "java",
   "version": "11.0.1+13-LTS"
  },
  "toc": {
   "base_numbering": 1,
   "nav_menu": {},
   "number_sections": true,
   "sideBar": true,
   "skip_h1_title": false,
   "title_cell": "Table of Contents",
   "title_sidebar": "Contents",
   "toc_cell": false,
   "toc_position": {},
   "toc_section_display": true,
   "toc_window_display": false
  }
 },
 "nbformat": 4,
 "nbformat_minor": 2
}
