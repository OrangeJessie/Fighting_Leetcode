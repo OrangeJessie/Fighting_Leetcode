{
 "cells": [
  {
   "cell_type": "code",
   "execution_count": 16,
   "metadata": {
    "ExecuteTime": {
     "end_time": "2019-01-04T08:54:25.492238Z",
     "start_time": "2019-01-04T08:54:25.483262Z"
    },
    "code_folding": []
   },
   "outputs": [
    {
     "name": "stdout",
     "output_type": "stream",
     "text": [
      "False\n"
     ]
    }
   ],
   "source": [
    "# Definition for a binary tree node.\n",
    "class TreeNode(object):\n",
    "    def __init__(self, x):\n",
    "        self.val = x\n",
    "        self.left = None\n",
    "        self.right = None\n",
    "\n",
    "\n",
    "class Tree(object):\n",
    "    def __init__(self):\n",
    "        self.root = TreeNode(-1)\n",
    "        self.queue = []\n",
    "\n",
    "    def addNode(self, x):\n",
    "        if self.root.val == -1:\n",
    "            node = TreeNode(x)\n",
    "            self.root = node\n",
    "            self.queue.append(self.root)\n",
    "        elif self.queue[0].left == None:\n",
    "            if x : \n",
    "                node = TreeNode(x)\n",
    "                self.queue.append(node)\n",
    "                self.queue[0].left = node\n",
    "            else:\n",
    "                self.queue[0].left = None\n",
    "                self.queue.append(None)\n",
    "        elif self.queue[0].right == None:\n",
    "            if x : \n",
    "                node = TreeNode(x)\n",
    "                self.queue[0].right = node\n",
    "                self.queue.append(node)\n",
    "            else:\n",
    "                self.queue[0].right = None\n",
    "                self.queue.append(None)\n",
    "            \n",
    "            self.queue.pop(0)\n",
    "\n",
    "\n",
    "class Solution(object):\n",
    "    def isValidBST(self, root):\n",
    "        \"\"\"\n",
    "        :type root: TreeNode\n",
    "        :rtype: bool\n",
    "        \"\"\"\n",
    "        if not root:\n",
    "            return True\n",
    "        if root.left == None and root.right == None:\n",
    "            return True\n",
    "        if root.left != None:\n",
    "            if root.val <= root.left.val or self.isValidBST(root.left) == False:\n",
    "                return False\n",
    "        if root.right != None:\n",
    "            if root.val >= root.right.val or self.isValidBST(root.right) == False:\n",
    "                return False\n",
    "        return True\n",
    "\n",
    "\n",
    "t = Tree()\n",
    "l = [10, 5, 15, None, None, 6, 20]\n",
    "for i in l:\n",
    "    t.addNode(i)\n",
    "s = Solution()\n",
    "print(s.isValidBST(t.root))\n"
   ]
  },
  {
   "cell_type": "code",
   "execution_count": 19,
   "metadata": {
    "ExecuteTime": {
     "end_time": "2019-01-04T08:56:06.361497Z",
     "start_time": "2019-01-04T08:56:06.356511Z"
    }
   },
   "outputs": [
    {
     "data": {
      "text/plain": [
       "[<__main__.TreeNode at 0x1f4919b2278>,\n",
       " None,\n",
       " None,\n",
       " <__main__.TreeNode at 0x1f4919b2240>,\n",
       " <__main__.TreeNode at 0x1f4919a64a8>]"
      ]
     },
     "execution_count": 19,
     "metadata": {},
     "output_type": "execute_result"
    }
   ],
   "source": [
    "t.queue"
   ]
  },
  {
   "cell_type": "code",
   "execution_count": 17,
   "metadata": {
    "ExecuteTime": {
     "end_time": "2019-01-04T08:54:35.757980Z",
     "start_time": "2019-01-04T08:54:35.747009Z"
    }
   },
   "outputs": [
    {
     "name": "stdout",
     "output_type": "stream",
     "text": [
      "10 5 15\n",
      "5 6 20\n"
     ]
    },
    {
     "ename": "AttributeError",
     "evalue": "'NoneType' object has no attribute 'val'",
     "output_type": "error",
     "traceback": [
      "\u001b[1;31m---------------------------------------------------------------------------\u001b[0m",
      "\u001b[1;31mAttributeError\u001b[0m                            Traceback (most recent call last)",
      "\u001b[1;32m<ipython-input-17-bfc570aaf5c9>\u001b[0m in \u001b[0;36m<module>\u001b[1;34m()\u001b[0m\n\u001b[0;32m      4\u001b[0m \u001b[0mprint\u001b[0m\u001b[1;33m(\u001b[0m\u001b[0mn\u001b[0m\u001b[1;33m.\u001b[0m\u001b[0mval\u001b[0m\u001b[1;33m,\u001b[0m\u001b[0mn\u001b[0m\u001b[1;33m.\u001b[0m\u001b[0mleft\u001b[0m\u001b[1;33m.\u001b[0m\u001b[0mval\u001b[0m\u001b[1;33m,\u001b[0m\u001b[0mn\u001b[0m\u001b[1;33m.\u001b[0m\u001b[0mright\u001b[0m\u001b[1;33m.\u001b[0m\u001b[0mval\u001b[0m\u001b[1;33m)\u001b[0m\u001b[1;33m\u001b[0m\u001b[0m\n\u001b[0;32m      5\u001b[0m \u001b[0mn\u001b[0m \u001b[1;33m=\u001b[0m \u001b[0mm\u001b[0m\u001b[1;33m.\u001b[0m\u001b[0mright\u001b[0m\u001b[1;33m\u001b[0m\u001b[0m\n\u001b[1;32m----> 6\u001b[1;33m \u001b[0mprint\u001b[0m\u001b[1;33m(\u001b[0m\u001b[0mn\u001b[0m\u001b[1;33m.\u001b[0m\u001b[0mval\u001b[0m\u001b[1;33m,\u001b[0m\u001b[0mn\u001b[0m\u001b[1;33m.\u001b[0m\u001b[0mleft\u001b[0m\u001b[1;33m.\u001b[0m\u001b[0mval\u001b[0m\u001b[1;33m,\u001b[0m\u001b[0mn\u001b[0m\u001b[1;33m.\u001b[0m\u001b[0mright\u001b[0m\u001b[1;33m.\u001b[0m\u001b[0mval\u001b[0m\u001b[1;33m)\u001b[0m\u001b[1;33m\u001b[0m\u001b[0m\n\u001b[0m",
      "\u001b[1;31mAttributeError\u001b[0m: 'NoneType' object has no attribute 'val'"
     ]
    }
   ],
   "source": [
    "m = t.root\n",
    "print(m.val,m.left.val,m.right.val)\n",
    "n = m.left\n",
    "print(n.val,n.left.val,n.right.val)\n",
    "n = m.right\n",
    "print(n.val,n.left.val,n.right.val)"
   ]
  },
  {
   "cell_type": "code",
   "execution_count": 18,
   "metadata": {
    "ExecuteTime": {
     "end_time": "2019-01-04T08:55:00.842753Z",
     "start_time": "2019-01-04T08:55:00.838791Z"
    }
   },
   "outputs": [
    {
     "name": "stdout",
     "output_type": "stream",
     "text": [
      "10\n",
      "5\n",
      "15\n",
      "None\n",
      "None\n",
      "6\n",
      "20\n"
     ]
    }
   ],
   "source": [
    "l = [10, 5, 15, None, None, 6, 20]\n",
    "for i in l:\n",
    "    print(i)"
   ]
  },
  {
   "cell_type": "code",
   "execution_count": 2,
   "metadata": {
    "ExecuteTime": {
     "end_time": "2019-01-04T08:39:18.960673Z",
     "start_time": "2019-01-04T08:39:18.956685Z"
    }
   },
   "outputs": [],
   "source": [
    "class TreeNode(object):\n",
    "    def __init__(self, x):\n",
    "        self.val = x\n",
    "        self.left = None\n",
    "        self.right = None"
   ]
  },
  {
   "cell_type": "code",
   "execution_count": 5,
   "metadata": {
    "ExecuteTime": {
     "end_time": "2019-01-04T08:40:24.992336Z",
     "start_time": "2019-01-04T08:40:24.989317Z"
    }
   },
   "outputs": [],
   "source": [
    "t = TreeNode(None)\n",
    "t.left = TreeNode(None)"
   ]
  },
  {
   "cell_type": "code",
   "execution_count": 6,
   "metadata": {
    "ExecuteTime": {
     "end_time": "2019-01-04T08:40:30.968290Z",
     "start_time": "2019-01-04T08:40:30.964335Z"
    }
   },
   "outputs": [
    {
     "data": {
      "text/plain": [
       "<__main__.TreeNode at 0x1f4919136a0>"
      ]
     },
     "execution_count": 6,
     "metadata": {},
     "output_type": "execute_result"
    }
   ],
   "source": [
    "t.left"
   ]
  }
 ],
 "metadata": {
  "kernelspec": {
   "display_name": "Python 3",
   "language": "python",
   "name": "python3"
  },
  "language_info": {
   "codemirror_mode": {
    "name": "ipython",
    "version": 3
   },
   "file_extension": ".py",
   "mimetype": "text/x-python",
   "name": "python",
   "nbconvert_exporter": "python",
   "pygments_lexer": "ipython3",
   "version": "3.6.5"
  },
  "toc": {
   "base_numbering": 1,
   "nav_menu": {},
   "number_sections": true,
   "sideBar": true,
   "skip_h1_title": false,
   "title_cell": "Table of Contents",
   "title_sidebar": "Contents",
   "toc_cell": false,
   "toc_position": {},
   "toc_section_display": true,
   "toc_window_display": false
  }
 },
 "nbformat": 4,
 "nbformat_minor": 2
}
